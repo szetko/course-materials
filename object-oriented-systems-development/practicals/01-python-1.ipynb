{
 "cells": [
  {
   "cell_type": "markdown",
   "metadata": {},
   "source": [
    "##### College of Engineering, Construction and Living Sciences<br>Bachelor of Information Technology<br>IN710: Object-Oriented Systems Development<br>Level 7, Credits 15<br><br>Deadline: Tuesday, 3 March at 5pm\n",
    "\n",
    "# Practical 01: Python 1\n",
    "\n",
    "In this practical, you will complete a series of tasks covering today's lecture. This practical is worth 1% of the final mark for the Object-Oriented Systems Development course."
   ]
  },
  {
   "cell_type": "code",
   "execution_count": null,
   "metadata": {},
   "outputs": [],
   "source": [
    "%config IPCompleter.greedy=True"
   ]
  },
  {
   "cell_type": "markdown",
   "metadata": {},
   "source": [
    "## Object-Oriented Programming Principles"
   ]
  },
  {
   "cell_type": "markdown",
   "metadata": {},
   "source": [
    "### Encapsulation\n",
    "**Task 1:** Create a class called ```Dog``` with the private class attributes ```breed```, ```age``` & ```color```. For **each** class attribute, create a getter & setter using the ```@property``` decorator.\n",
    "\n",
    "Use the two ```Dog``` objects provided in the ```main``` function to display the expected output."
   ]
  },
  {
   "cell_type": "code",
   "execution_count": 6,
   "metadata": {},
   "outputs": [],
   "source": [
    "# Write your Dog class solution here\n",
    "\n",
    "\n",
    "def main():\n",
    "    chihuahua = Dog('chihuahua', 1, 'white')\n",
    "    bulldog = Dog('bulldog', 5, 'brown')\n",
    "\n",
    "    # Write your expected output solution here\n",
    "\n",
    "\n",
    "if __name__ == '__main__':\n",
    "    main()\n",
    "\n",
    "# Expected output:\n",
    "\n",
    "# My chihuahua is black\n",
    "# My dog's age is 5"
   ]
  },
  {
   "cell_type": "markdown",
   "metadata": {},
   "source": [
    "### Abstraction\n",
    "**Task 2:** As aspiring developers, you should be confortable with explaining technical programming concepts to people with different backgrounds. Using a real-world example, how would you explain **abstraction** to a non-technical person?"
   ]
  },
  {
   "cell_type": "code",
   "execution_count": 7,
   "metadata": {},
   "outputs": [],
   "source": [
    "# Write your explanation here"
   ]
  },
  {
   "cell_type": "markdown",
   "metadata": {},
   "source": [
    "### Inheritance\n",
    "**Task 3:** Create two classes that inherit from ```Employee```. \n",
    "The ```SoftwareDeveloper``` class has one additional class attribute called ```prog_lang```. The ```ProductOwner``` also has one additional class attribute called ```employees```, but three class methods that add, remove & show all employees managed by the Product Owner. **Note:** ```employees``` is a list of ```SoftwareDeveloper``` objects.\n",
    "\n",
    "Use the three ```SoftwareDeveloper``` objects & one ```ProductOwner``` object provided in the ```main``` function to display the expected output."
   ]
  },
  {
   "cell_type": "code",
   "execution_count": 2,
   "metadata": {},
   "outputs": [],
   "source": [
    "class Employee:\n",
    "    def __init__(self, first_name, last_name, salary):\n",
    "        self.first_name = first_name\n",
    "        self.last_name = last_name\n",
    "        self.salary = salary\n",
    "\n",
    "# Write your SoftwareDeveloper class solution here\n",
    "\n",
    "# Write your ProductOwner class solution here\n",
    "\n",
    "\n",
    "def main():\n",
    "    sft_dev_1 = SoftwareDeveloper('Alfredo', 'Boyle', 50000, 'C#')\n",
    "    sft_dev_2 = SoftwareDeveloper('Malik', 'Martin', 55000, 'JavaScript')\n",
    "    sft_dev_3 = SoftwareDeveloper('Livia', 'Martin', 75000, 'Kotlin')\n",
    "    prdt_owr = ProductOwner('Lillian', 'Cunningham',\n",
    "                            100000, [sft_dev_1, sft_dev_3])\n",
    "\n",
    "    # Add sft_dev_2 to the list of employees\n",
    "    # Remove sft_dev_3 from the list of employees\n",
    "    prdt_owr.show_employees()\n",
    "\n",
    "\n",
    "if __name__ == '__main__':\n",
    "    main()\n",
    "\n",
    "# Expected output:\n",
    "\n",
    "# Alfredo Boyle\n",
    "# Malik Martin"
   ]
  },
  {
   "cell_type": "markdown",
   "metadata": {},
   "source": [
    "### Polymorphism\n",
    "**Task 4:** The ```Language``` class has no class attributes but a class method called ```say_good_morning```. The ```French```, ```Japanese``` & ```Spanish``` classes inherit the ```say_good_morning``` class method from ```Language```. When you run this code, what is happening & why is it happening? Fix this code to display the expected output."
   ]
  },
  {
   "cell_type": "code",
   "execution_count": null,
   "metadata": {},
   "outputs": [],
   "source": [
    "# Write your explanation here\n",
    "\n",
    "\n",
    "class Language:\n",
    "    def say_good_morning(self):\n",
    "        raise NotImplementedError('say_good_morning was not implemented.')\n",
    "\n",
    "\n",
    "class French(Language):\n",
    "    def say_good_morning(self):\n",
    "        print('Bonjour')\n",
    "\n",
    "\n",
    "class Japanese(Language):\n",
    "    pass\n",
    "\n",
    "\n",
    "class Spanish(Language):\n",
    "    def say_good_morning(self):\n",
    "        print('Buenos días')\n",
    "\n",
    "\n",
    "def main():\n",
    "    fra = French()\n",
    "    jpn = Japanese()\n",
    "    esp = Spanish()\n",
    "    for lang in (fra, jpn, esp):\n",
    "        lang.say_good_morning()\n",
    "\n",
    "\n",
    "if __name__ == '__main__':\n",
    "    main()\n",
    "\n",
    "# Expected output:\n",
    "\n",
    "# Bonjour\n",
    "# おはようございます\n",
    "# Buenos días"
   ]
  },
  {
   "cell_type": "markdown",
   "metadata": {},
   "source": [
    "## Basic Data Structures"
   ]
  },
  {
   "cell_type": "markdown",
   "metadata": {},
   "source": [
    "### List\n",
    "**Task 5:** Use the ```insert```, ```extend``` & ```remove``` list methods to display the expected output. "
   ]
  },
  {
   "cell_type": "code",
   "execution_count": 56,
   "metadata": {
    "scrolled": true
   },
   "outputs": [],
   "source": [
    "courses_1 = ['Prog4', 'Project', 'OOSD', 'Mobile']\n",
    "courses_2 = ['OSC', 'Security', 'Web1']\n",
    "\n",
    "# Write your expected output solution here\n",
    "\n",
    "# Expected output:\n",
    "\n",
    "# ['Prog4', 'Project', 'SoftEng', 'OOSD', 'Mobile', 'Security', 'Web1']"
   ]
  },
  {
   "cell_type": "markdown",
   "metadata": {},
   "source": [
    "**Task 6:** Use list slicing & the following rules to display the expected output:\n",
    "- For output one, you **must** use a positive index\n",
    "- For output two, you **must** use a negative index\n",
    "- For output three, you **must** use a step"
   ]
  },
  {
   "cell_type": "code",
   "execution_count": null,
   "metadata": {},
   "outputs": [],
   "source": [
    "nums_1 = [10, 20, 30, 40, 50, 60, 70, 80, 90, 100]\n",
    "\n",
    "# Write your expected output solution here\n",
    "\n",
    "# Expected output:\n",
    "\n",
    "# Output one - [40, 50, 60, 70]\n",
    "# Output two - [80, 90, 100]\n",
    "# Output three - [10, 30, 50, 70, 90]"
   ]
  },
  {
   "cell_type": "markdown",
   "metadata": {},
   "source": [
    "### Tuple\n",
    "**Task 7:** Use the ```count``` tuple method to display the expected output."
   ]
  },
  {
   "cell_type": "code",
   "execution_count": 55,
   "metadata": {},
   "outputs": [],
   "source": [
    "fav_fruit = ('b', 'a', 'n', 'a', 'n', 'a')\n",
    "\n",
    "# Write your expected output solution here\n",
    "\n",
    "# Expected output:\n",
    "\n",
    "# There are 3 a's in the tuple"
   ]
  },
  {
   "cell_type": "markdown",
   "metadata": {},
   "source": [
    "### Set\n",
    "**Task 8:** Use the following hints to display the expected output:\n",
    "- Use the set method that returns the difference of two or more sets as a new set\n",
    "- Use the set method that returns the union of sets as a new set"
   ]
  },
  {
   "cell_type": "code",
   "execution_count": 29,
   "metadata": {},
   "outputs": [],
   "source": [
    "lect_courses_1 = {'Prog4', 'Project', 'OOSD', 'Mobile Dev'}\n",
    "lect_courses_2 = {'Project', 'Web1'}\n",
    "\n",
    "# Write your expected output solution here\n",
    "\n",
    "# Expected output:\n",
    "\n",
    "# {'Mobile Dev', 'OOSD', 'Prog4'}\n",
    "# {'Mobile Dev', 'OOSD', 'Prog4', 'Web1', 'Project'}"
   ]
  },
  {
   "cell_type": "markdown",
   "metadata": {},
   "source": [
    "### Dictionary\n",
    "**Task 9:** Use the following hints to display the expected output:\n",
    "- For each value in ```soft_drinks```, add the value to ```total_price```.\n",
    "- For each key in ```soft_drinks```, if the key equals ```coca-cola```, delete it from ```soft_drinks```."
   ]
  },
  {
   "cell_type": "code",
   "execution_count": 4,
   "metadata": {},
   "outputs": [],
   "source": [
    "soft_drinks = {'coca-cola': 1.00, 'fanta': 0.90, 'sprite': 1.10}\n",
    "total_price = 0.00\n",
    "\n",
    "# Write your expected output solution here\n",
    "\n",
    "print(f'Total price: {total_price}')\n",
    "print(soft_drinks)\n",
    "\n",
    "# Expected output:\n",
    "\n",
    "# Total price: 3.0\n",
    "# {'fanta': 0.9, 'sprite': 1.1}"
   ]
  },
  {
   "cell_type": "markdown",
   "metadata": {},
   "source": [
    "### Linked List\n",
    "**Task 10:** Implement the ```insert```, ```find```, ```count``` & ```display``` methods in the ```LinkedList``` class. Use the ```LinkedList``` object provided in the ```main``` function to display the expected output."
   ]
  },
  {
   "cell_type": "code",
   "execution_count": null,
   "metadata": {},
   "outputs": [],
   "source": [
    "class Node:\n",
    "    def __init__(self, data):\n",
    "        self.data = data\n",
    "        self.next = None\n",
    "\n",
    "\n",
    "class LinkedList:\n",
    "    def __init__(self, data):\n",
    "        self.head = Node(data)\n",
    "\n",
    "    def insert(self, data):\n",
    "        # Set the current node to the head\n",
    "        # Check while the next node is not None\n",
    "            # Set the current node to the next node\n",
    "        current_node.next = Node(data)\n",
    "\n",
    "    def find(self, data):\n",
    "        # Set the current node to the head\n",
    "        # Check while the next node is not None\n",
    "            # Check if current node's data is equal to the data passed in\n",
    "                return True\n",
    "            else:\n",
    "                # Set the current node to the next node\n",
    "        return False\n",
    "\n",
    "    def count(self):\n",
    "        # Set the current node to the head\n",
    "        # Set the count to zero\n",
    "        # Check while the next node is not None\n",
    "            # Increment the count by one\n",
    "            # Set the current node to the next node\n",
    "        # Return the count\n",
    "\n",
    "    def display(self):\n",
    "        # Set the current node to the head\n",
    "        # Declare & initialise an empty list\n",
    "        # Check while the next node is not None\n",
    "            # Append the current node's data to the \n",
    "            # Set the current node to the next node\n",
    "        # Return the list\n",
    "\n",
    "def main():\n",
    "    linked_list = LinkedList(None)\n",
    "    linked_list.insert('Prog4')\n",
    "    linked_list.insert('Web1')\n",
    "    linked_list.insert('OOSD')\n",
    "    \n",
    "    # Write your expected output solution here \n",
    "    \n",
    "    \n",
    "if __name__ == '__main__':\n",
    "    main()\n",
    "    \n",
    "# Expected output:\n",
    "\n",
    "# [None, 'Prog4', 'Web1', 'OOSD']\n",
    "# Is Prog4 in the linked list? True\n",
    "# Is WebOne in the linked list? False\n",
    "# There are 4 items in the linked list"
   ]
  },
  {
   "cell_type": "markdown",
   "metadata": {},
   "source": [
    "### Stack\n",
    "**Task 11:** Implement the ```is_empty```, ```is_full```, ```push```, ```pop```, ```peek``` & ```display``` methods in the ```Stack``` class. Use the ```Stack``` object provided in the ```main``` function to display the expected output."
   ]
  },
  {
   "cell_type": "code",
   "execution_count": null,
   "metadata": {},
   "outputs": [],
   "source": [
    "class Stack():\n",
    "    def __init__(self):\n",
    "        self.stack = []\n",
    "\n",
    "    def is_empty(self):\n",
    "        # Check if the stack is empty - there are two ways you can implement this\n",
    "\n",
    "    def push(self, item):\n",
    "        # Add the item to the top of the stack\n",
    "\n",
    "    def pop(self):\n",
    "        # Check if the stack is not empty\n",
    "            # Remove the item at the top of the stack\n",
    "\n",
    "    def peek(self):\n",
    "        # Check if the stack is not empty\n",
    "            # Return the item at the top of the stack\n",
    "\n",
    "    def display(self):\n",
    "        # Check if the stack is not empty\n",
    "            # Return all the items in the stack\n",
    "\n",
    "\n",
    "def main():\n",
    "    stack = Stack()\n",
    "    stack.push('Prog4')\n",
    "    stack.push('Web1')\n",
    "    stack.push('OOSD')\n",
    "\n",
    "    # Write your expected output solution here\n",
    "\n",
    "\n",
    "if __name__ == '__main__':\n",
    "    main()\n",
    "\n",
    "# Expected output:\n",
    "\n",
    "# ['Prog4', 'Web1']\n",
    "# Web1 is at the top of the stack"
   ]
  },
  {
   "cell_type": "markdown",
   "metadata": {},
   "source": [
    "### Queue\n",
    "**Task 12:** Implement the ```is_empty```, ```enqueue```, ```dequeue```, ```size``` & ```display``` methods in the ```Queue``` class. Use the ```Queue``` object provided in the ```main``` function to display the expected output."
   ]
  },
  {
   "cell_type": "code",
   "execution_count": null,
   "metadata": {},
   "outputs": [],
   "source": [
    "class Queue():\n",
    "    def __init__(self):\n",
    "        # Declare & initialise an empty queue\n",
    "\n",
    "    def is_empty(self):\n",
    "        # Check if the queue is empty - there are two ways you can implement this\n",
    "\n",
    "    def enqueue(self, item):\n",
    "        # Insert the item at the bottom of the queue\n",
    "\n",
    "    def dequeue(self):\n",
    "        # Check if the queue is not empty\n",
    "            # Remove the item at the top of the queue\n",
    "\n",
    "    def size(self):\n",
    "        # Return the number of items in the queue\n",
    "\n",
    "    def display(self):\n",
    "        # Check if the queue is not empty\n",
    "            # Return all the items in the queue\n",
    "\n",
    "\n",
    "def main():\n",
    "    queue = Queue()\n",
    "    queue.enqueue('Prog4')\n",
    "    queue.enqueue('Web1')\n",
    "    queue.enqueue('OOSD')\n",
    "\n",
    "    # Write your expected output solution here\n",
    "\n",
    "\n",
    "if __name__ == '__main__':\n",
    "    main()\n",
    "\n",
    "# Expected output:\n",
    "\n",
    "# ['OOSD', 'Web1', 'Prog4']\n",
    "# There are 3 items in the queue\n",
    "# ['OOSD', 'Web1']"
   ]
  },
  {
   "cell_type": "markdown",
   "metadata": {},
   "source": [
    "## Comprehensions"
   ]
  },
  {
   "cell_type": "markdown",
   "metadata": {},
   "source": [
    "### List Comprehension\n",
    "**Task 13:** Convert the following into a list comprehension. Use the list comprehension to display the expected output."
   ]
  },
  {
   "cell_type": "code",
   "execution_count": null,
   "metadata": {},
   "outputs": [],
   "source": [
    "nums_1 = [1, 2, 3, 4, 5]\n",
    "nums_2 = [6, 7, 8, 9, 10]\n",
    "output = []\n",
    "\n",
    "for n1 in nums_1:\n",
    "    for n2 in nums_2:\n",
    "        if n1 % 2 == 0 and n2 % 2 == 0:\n",
    "            output.append((n1, n2))\n",
    "\n",
    "# Write your list comprehension solution here\n",
    "\n",
    "# Expected output:\n",
    "\n",
    "# [(2, 6), (2, 8), (2, 10), (4, 6), (4, 8), (4, 10)]"
   ]
  },
  {
   "cell_type": "markdown",
   "metadata": {},
   "source": [
    "**Task 14:** Convert the following into a list comprehension. Use the list comprehension to display the expected output."
   ]
  },
  {
   "cell_type": "code",
   "execution_count": null,
   "metadata": {},
   "outputs": [],
   "source": [
    "nums_1 = [1, 2, 2, 3, 4, 5, 5]\n",
    "output = []\n",
    "\n",
    "for i in nums_1:\n",
    "    if i % 2 == 0:\n",
    "        output.append(i)\n",
    "\n",
    "# Write your list comprehension solution here\n",
    "\n",
    "# Expected output:\n",
    "\n",
    "# [2, 2, 4]"
   ]
  },
  {
   "cell_type": "markdown",
   "metadata": {},
   "source": [
    "### Set Comprehension\n",
    "**Task 15:** Create a set comprehension that returns the ```breed``` of dogs who are not```is_aggressive```. Use the set comprehension to display the expected output."
   ]
  },
  {
   "cell_type": "code",
   "execution_count": null,
   "metadata": {},
   "outputs": [],
   "source": [
    "class Dog:\n",
    "    def __init__(self, breed, is_aggressive):\n",
    "        self.breed = breed\n",
    "        self.is_aggressive = is_aggressive\n",
    "\n",
    "\n",
    "def main():\n",
    "    dogs = [\n",
    "        Dog('American Pit Bull Terrier', True),\n",
    "        Dog('Cavalier King Charles Spaniel', False),\n",
    "        Dog('Cavalier King Charles Spaniel', False),\n",
    "        Dog('Labrador Retriever', False),\n",
    "        Dog('Rottweiler', True),\n",
    "        Dog('Shih Tzu', False)\n",
    "    ]\n",
    "\n",
    "    # Write your set comprehension solution here\n",
    "\n",
    "\n",
    "if __name__ == '__main__':\n",
    "    main()\n",
    "\n",
    "# Expect output:\n",
    "\n",
    "# {'Shih Tzu', 'Labrador Retriever', 'Cavalier King Charles Spaniel'}"
   ]
  },
  {
   "cell_type": "markdown",
   "metadata": {},
   "source": [
    "# Submission\n",
    "1. Create a new branch named 01-checkpoint within your practicals GitHub repository\n",
    "2. Create a new pull request and assign Grayson-Orr to review your submission\n",
    "\n",
    "**Note:** Please don't merge your own pull request."
   ]
  }
 ],
 "metadata": {
  "kernelspec": {
   "display_name": "Python 3",
   "language": "python",
   "name": "python3"
  },
  "language_info": {
   "codemirror_mode": {
    "name": "ipython",
    "version": 3
   },
   "file_extension": ".py",
   "mimetype": "text/x-python",
   "name": "python",
   "nbconvert_exporter": "python",
   "pygments_lexer": "ipython3",
   "version": "3.7.5"
  }
 },
 "nbformat": 4,
 "nbformat_minor": 2
}
