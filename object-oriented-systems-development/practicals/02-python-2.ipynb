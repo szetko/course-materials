{
 "cells": [
  {
   "cell_type": "markdown",
   "metadata": {},
   "source": [
    "##### College of Engineering, Construction and Living Sciences<br>Bachelor of Information Technology<br>IN710: Object-Oriented Systems Development<br>Level 7, Credits 15<br><br>Deadline: Tuesday, 3 March at 5pm\n",
    "\n",
    "# Practical 02: Python 2\n",
    "\n",
    "In this practical, you will complete a series of tasks covering today's lecture. This practical is worth 1% of the final mark for the Object-Oriented Systems Development course."
   ]
  },
  {
   "cell_type": "code",
   "execution_count": null,
   "metadata": {},
   "outputs": [],
   "source": [
    "%config IPCompleter.greedy=True"
   ]
  },
  {
   "cell_type": "markdown",
   "metadata": {},
   "source": [
    "## Functional Programming "
   ]
  },
  {
   "cell_type": "markdown",
   "metadata": {},
   "source": [
    "### Map\n",
    "**Task 1:** Using the ```uuid4``` method, generate a random UUID called ```rand_uuid```. Use ```rand_uuid``` & ```map``` function to return an uppercase ```rand_uuid```. **Note:** your outputs will be different to what is shown below."
   ]
  },
  {
   "cell_type": "code",
   "execution_count": null,
   "metadata": {},
   "outputs": [],
   "source": [
    "from uuid import uuid4\n",
    "\n",
    "# Write your expected output solution here\n",
    "\n",
    "rand_uuid = \n",
    "upper_rand_uuid = ''.join(map())\n",
    "print(f'Random UUID: {rand_uuid}')\n",
    "print(f'Uppercase random UUID: {upper_rand_uuid}')\n",
    "\n",
    "# Expected output:\n",
    "\n",
    "# Random UUID: 58a641f1-ac6a-4a5d-ab31-302af8b2dfc4\n",
    "# Uppercase random UUID: 58A641F1-AC6A-4A5D-AB31-302AF8B2DFC4"
   ]
  },
  {
   "cell_type": "markdown",
   "metadata": {},
   "source": [
    "### Filter\n",
    "**Task 2:** Using the ```randrange``` method, create a list comprehension called ```exam_scores``` that generates 10 numbers between 1 & 100. Use ```exam_scores``` & ```filter``` function to return all items ≥ 80. **Note:** your outputs will be different to what is shown below."
   ]
  },
  {
   "cell_type": "code",
   "execution_count": null,
   "metadata": {},
   "outputs": [],
   "source": [
    "from random import randrange\n",
    "\n",
    "# Write your expected output solution here\n",
    "\n",
    "exam_scores = \n",
    "a_grade_range_exam_scores = filter()\n",
    "print(f'Exam scores: {exam_scores}')\n",
    "print(f'A grade range exam scores: {list(a_grade_range_exam_scores)}')\n",
    "\n",
    "# Expected output:\n",
    "\n",
    "# Exam scores: [52, 51, 82, 11, 16, 19, 10, 91, 59, 58]\n",
    "# A grade range exam scores: [82, 91]"
   ]
  },
  {
   "cell_type": "markdown",
   "metadata": {},
   "source": [
    "### Reduce\n",
    "**Task 3:** Using the ```randrange``` method, create a list comprehension called ```rand_nums``` that generates 5 numbers between 1 & 100. Use ```rand_nums``` & ```reduce``` method to return the sum of ```rand_nums```. **Note:** your outputs will be different to what is shown below."
   ]
  },
  {
   "cell_type": "code",
   "execution_count": null,
   "metadata": {},
   "outputs": [],
   "source": [
    "from functools import reduce\n",
    "from random import randrange\n",
    "\n",
    "# Write your expected output solution here\n",
    "\n",
    "rand_nums = \n",
    "sum_rand_nums = reduce()\n",
    "print(f'Random numbers: {rand_nums}')\n",
    "print(f'Sum of random numbers: {sum_rand_nums}') \n",
    "\n",
    "# Expected output:\n",
    "\n",
    "# Random numbers: [25, 65, 75, 9, 57]\n",
    "# Sum of random numbers: 231"
   ]
  },
  {
   "cell_type": "markdown",
   "metadata": {},
   "source": [
    "### Iterators\n",
    "**Task 4:** Implement the ```init```, ```iter``` & ```next``` special methods in the ```SquareRoot``` iterator class. Use the ```SquareRoot``` object provided in the main function to display the expected output. "
   ]
  },
  {
   "cell_type": "code",
   "execution_count": null,
   "metadata": {},
   "outputs": [],
   "source": [
    "from math import sqrt\n",
    "\n",
    "\n",
    "class SquareRoot:\n",
    "    def __init__(self, min, max):\n",
    "        pass\n",
    "\n",
    "    def __iter__(self):\n",
    "        pass\n",
    "\n",
    "    def __next__(self):\n",
    "        # Check if min is ≤ to max\n",
    "            # Square root min and round the result to two decimal places\n",
    "            # Increment min by 1\n",
    "            # Return the result\n",
    "        # If min is not ≤ to max\n",
    "            # Raise the StopIteration exception\n",
    "\n",
    "\n",
    "def main():\n",
    "    sqrt_nums = SquareRoot(0, 5)\n",
    "    sqrt_nums_iter = sqrt_nums.__iter__()\n",
    "\n",
    "    # Write your expected output solution here\n",
    "\n",
    "if __name__ == '__main__':\n",
    "    main()\n",
    "\n",
    "# Expected output:\n",
    "\n",
    "# 0.0\n",
    "# 1.0\n",
    "# 1.41\n",
    "# 1.73\n",
    "# 2.0\n",
    "# 2.24\n",
    "# StopIteration:"
   ]
  },
  {
   "cell_type": "markdown",
   "metadata": {},
   "source": [
    "**Task 5:** Implement the ```iter``` & ```next``` special methods in the ```Sentence``` iterator class. Use the ```Sentence``` object provided in the main function to display the expected output. "
   ]
  },
  {
   "cell_type": "code",
   "execution_count": null,
   "metadata": {},
   "outputs": [],
   "source": [
    "class Sentence:\n",
    "    def __init__(self, sentence):\n",
    "        self.sentence = sentence\n",
    "        self.idx = 0\n",
    "        self.words = self.sentence.split()\n",
    "\n",
    "    def __iter__(self):\n",
    "        pass\n",
    "\n",
    "    def __next__(self):\n",
    "        # Check if idx is ≥ to the length of words\n",
    "            # Raise the StopIteration exception\n",
    "        # If idx is not ≥ to the length of words\n",
    "            # Index into the words using idx\n",
    "            # Increment min by 1\n",
    "            # Return the result\n",
    "\n",
    "\n",
    "def main():\n",
    "    sentence = Sentence(\n",
    "        'He was a spunky hanky-panky cranky stinky-dinky lanky honky-tonky winky wonky donkey!')\n",
    "    sentence_iter = sentence.__iter__()\n",
    "\n",
    "    # Write your expected output solution here\n",
    "\n",
    "\n",
    "if __name__ == '__main__':\n",
    "    main()\n",
    "\n",
    "# Expected output:\n",
    "\n",
    "# He\n",
    "# was\n",
    "# a\n",
    "# spunky\n",
    "# hanky-panky\n",
    "# cranky\n",
    "# stinky-dinky\n",
    "# lanky\n",
    "# honky-tonky\n",
    "# winky\n",
    "# wonky\n",
    "# donkey!\n",
    "# StopIteration:"
   ]
  },
  {
   "cell_type": "markdown",
   "metadata": {},
   "source": [
    "### Generators\n",
    "**Task 6:** Convert the following function ```square_numbers``` into a generator. Use the generator to display the expected output."
   ]
  },
  {
   "cell_type": "code",
   "execution_count": 1,
   "metadata": {},
   "outputs": [],
   "source": [
    "def square_numbers(nums):\n",
    "    output = []\n",
    "    for n in nums:\n",
    "        output.append(n ** 2)\n",
    "    return output\n",
    "\n",
    "\n",
    "nums_1 = square_numbers([1, 2, 3, 4, 5])\n",
    "\n",
    "# Write your expected output solution here\n",
    "\n",
    "# Expected output:\n",
    "# 1\n",
    "# 4\n",
    "# 9\n",
    "# 16\n",
    "# 25\n",
    "# StopIteration:"
   ]
  },
  {
   "cell_type": "markdown",
   "metadata": {},
   "source": [
    "**Task 7:** Convert the following function ```halve_numbers``` into a generator. Use the generator to display the expected output."
   ]
  },
  {
   "cell_type": "code",
   "execution_count": null,
   "metadata": {},
   "outputs": [],
   "source": [
    "def halve_numbers(nums):\n",
    "    output = []\n",
    "    for n in nums:\n",
    "        output.append(n / 2)\n",
    "    return output\n",
    "\n",
    "\n",
    "nums_1 = halve_numbers([1, 2, 3, 4, 5])\n",
    "\n",
    "# Write your expected output solution here\n",
    "\n",
    "# Expected output:\n",
    "\n",
    "# 0.5\n",
    "# 1.0\n",
    "# 1.5"
   ]
  },
  {
   "cell_type": "markdown",
   "metadata": {},
   "source": [
    "**Task 8:** Convert the following function ```random_people``` into a generator. Use the generator to display the expected output. **Note:** your outputs will be different to what is shown below."
   ]
  },
  {
   "cell_type": "code",
   "execution_count": null,
   "metadata": {},
   "outputs": [],
   "source": [
    "from random import choice\n",
    "\n",
    "first_names = ['Chelsea', 'Janelle', 'Tre']\n",
    "last_names = ['Clarke', 'Day', 'Terry']\n",
    "nationality = ['Australia', 'England', 'New Zealand']\n",
    "\n",
    "\n",
    "def random_people():\n",
    "    output = []\n",
    "    for n in range(3):\n",
    "        person = {\n",
    "            'id': n,\n",
    "            'first_name': choice(first_names),\n",
    "            'last_names': choice(last_names),\n",
    "            'nationality': choice(nationality)\n",
    "        }\n",
    "        output.append(person)\n",
    "    return output\n",
    "\n",
    "\n",
    "rnd_ppl = random_people()\n",
    "\n",
    "# Write your expected output solution here\n",
    "\n",
    "# Expected output:\n",
    "\n",
    "# {'id': 0, 'first_name': 'Tre', 'last_names': 'Clarke', 'nationality': 'Australia'}\n",
    "# {'id': 1, 'first_name': 'Chelsea', 'last_names': 'Terry', 'nationality': 'New Zealand'}"
   ]
  },
  {
   "cell_type": "markdown",
   "metadata": {},
   "source": [
    "**Task 9:** Create a function called ```fizz_buzz``` that yields the numbers between 15 & 20. However, for numbers that are multiples of three, yield **Fizz**, for numbers that are multiples of five, yield **Buzz** & for numbers that are multiples of three & five, yield **FizzBuzz**. Use the ```fizz_buzz``` function to display the expected output."
   ]
  },
  {
   "cell_type": "code",
   "execution_count": null,
   "metadata": {},
   "outputs": [],
   "source": [
    "# Write your expected output solution here\n",
    "\n",
    "# Expected output:\n",
    "\n",
    "# FizzBuzz\n",
    "# 16\n",
    "# 17\n",
    "# Fizz\n",
    "# 19\n",
    "# Buzz"
   ]
  },
  {
   "cell_type": "markdown",
   "metadata": {},
   "source": [
    "## Context Managers\n",
    "**Task 10:** Implement the ```iter```, ```enter``` & ```exit``` special methods in the ```File``` context manager class. Use the ```with``` statement & ```File``` object provided in the main function to display the expected output. **Note:** To display the expected output, execute the ```%run``` magic command. Click [here](https://ipython.readthedocs.io/en/stable/interactive/magics.html#magic-run) to view the documentation."
   ]
  },
  {
   "cell_type": "code",
   "execution_count": 1,
   "metadata": {},
   "outputs": [],
   "source": [
    "class File():\n",
    "    def __init__(self, filename, mode):\n",
    "        # Declare & initialise a file object\n",
    "\n",
    "    def __enter__(self):\n",
    "        # Return the file object\n",
    "\n",
    "    def __exit__(self, type, value, traceback):\n",
    "        # Close the file object\n",
    "\n",
    "\n",
    "def main():\n",
    "    # Write your expected output solution here\n",
    "    \n",
    "    with File('hello-world.py', 'w') as f:\n",
    "        pass\n",
    "\n",
    "\n",
    "if __name__ == '__main__':\n",
    "    main()\n",
    "\n",
    "# Expected output:\n",
    "\n",
    "# Hello World\n",
    "\n",
    "# Python file called 'hello-world.py'. Should contain the following line of code - print('Hello World')."
   ]
  },
  {
   "cell_type": "markdown",
   "metadata": {},
   "source": [
    "## Other In-Built Functions"
   ]
  },
  {
   "cell_type": "markdown",
   "metadata": {},
   "source": [
    "### Enumerate\n",
    "**Task 11:** Use the ```enumerate``` function to display the expected output."
   ]
  },
  {
   "cell_type": "code",
   "execution_count": null,
   "metadata": {},
   "outputs": [],
   "source": [
    "random_things = ['hanger', 'clay pot', 'lace',\n",
    "                 'charger', 'deodorant', 'credit card']\n",
    "\n",
    "# Write your expected output solution here\n",
    "\n",
    "# Expected output:\n",
    "\n",
    "# Item 1: hanger\n",
    "# Item 2: clay pot\n",
    "# Item 3: lace\n",
    "# Item 4: charger\n",
    "# Item 5: deodorant\n",
    "# Item 6: credit card"
   ]
  },
  {
   "cell_type": "markdown",
   "metadata": {},
   "source": [
    "### Reversed\n",
    "**Task 12:** Use the ```reversed``` function to display the expected output."
   ]
  },
  {
   "cell_type": "code",
   "execution_count": null,
   "metadata": {},
   "outputs": [],
   "source": [
    "sentence = 'Hello my name is John Doe'\n",
    "\n",
    "# Write your expected output solution here\n",
    "\n",
    "# Expected output:\n",
    "\n",
    "# ['Doe', 'John', 'is', 'name', 'my', 'Hello']"
   ]
  },
  {
   "cell_type": "markdown",
   "metadata": {},
   "source": [
    "### Slice\n",
    "**Task 13:** Use the ```slice``` function to display the expected output."
   ]
  },
  {
   "cell_type": "code",
   "execution_count": null,
   "metadata": {},
   "outputs": [],
   "source": [
    "alphabet = 'ABCDEFGHIJKLMNOPQRSTUVWXYZ'\n",
    "\n",
    "# Write your expected output solution here\n",
    "\n",
    "# Expected output:\n",
    "\n",
    "# ACEGI"
   ]
  },
  {
   "cell_type": "markdown",
   "metadata": {},
   "source": [
    "### Sorted\n",
    "**Task 14:** Use the ```sorted``` function to display the expected output."
   ]
  },
  {
   "cell_type": "code",
   "execution_count": null,
   "metadata": {},
   "outputs": [],
   "source": [
    "sentence = 'This course is called Object-Oriented Systems Development'\n",
    "\n",
    "# Write your expected output solution here\n",
    "\n",
    "# Expected output:\n",
    "\n",
    "# ['is', 'course', 'called', 'This', 'Systems', 'Object-Oriented', 'Development']"
   ]
  },
  {
   "cell_type": "markdown",
   "metadata": {},
   "source": [
    "### Vars\n",
    "**Task 15:** Create a class called Person with the class attributes ```first_name```, ```last_name``` and ```age```.\n",
    "\n",
    "Use the ```Person``` object provided in the main function and the ```vars``` function to display the expected output."
   ]
  },
  {
   "cell_type": "code",
   "execution_count": 1,
   "metadata": {},
   "outputs": [],
   "source": [
    "# Write your Person class solution here\n",
    "\n",
    "\n",
    "def main():\n",
    "    person = Person('John', 'Doe', 35)\n",
    "    # Write your expected output solution here\n",
    "\n",
    "\n",
    "if __name__ == '__main__':\n",
    "    main()\n",
    "\n",
    "# Expected output:\n",
    "\n",
    "# {'first_name': 'John', 'last_name': 'Doe', 'age': 35}"
   ]
  },
  {
   "cell_type": "markdown",
   "metadata": {},
   "source": [
    "### Zip\n",
    "**Task 16:** Use the ```zip``` function to display the expected output."
   ]
  },
  {
   "cell_type": "code",
   "execution_count": null,
   "metadata": {},
   "outputs": [],
   "source": [
    "name = ['Georgina Ortega', 'Orla Mccoy', 'Rosa Sparks']\n",
    "nationality = ['Australia', 'England', 'New Zealand']\n",
    "occupation = ['Accountant', 'Nurse']\n",
    "age = ['22', '33', 44]\n",
    "\n",
    "# Write your expected output solution here\n",
    "\n",
    "# Expected output:\n",
    "\n",
    "# [('Georgina Ortega', 'Australia', 'Accountant', '22'), ('Orla Mccoy', 'England', 'Nurse', '33')]"
   ]
  },
  {
   "cell_type": "markdown",
   "metadata": {},
   "source": [
    "# Submission\n",
    "1. Create a new branch named 02-checkpoint within your practicals GitHub repository\n",
    "2. Create a new pull request and assign Grayson-Orr to review your submission\n",
    "\n",
    "**Note:** Please don't merge your own pull request."
   ]
  }
 ],
 "metadata": {
  "kernelspec": {
   "display_name": "Python 3",
   "language": "python",
   "name": "python3"
  },
  "language_info": {
   "codemirror_mode": {
    "name": "ipython",
    "version": 3
   },
   "file_extension": ".py",
   "mimetype": "text/x-python",
   "name": "python",
   "nbconvert_exporter": "python",
   "pygments_lexer": "ipython3",
   "version": "3.7.4"
  }
 },
 "nbformat": 4,
 "nbformat_minor": 2
}
