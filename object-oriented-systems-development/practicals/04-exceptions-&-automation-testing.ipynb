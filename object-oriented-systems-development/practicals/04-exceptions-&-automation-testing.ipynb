{
 "cells": [
  {
   "cell_type": "markdown",
   "metadata": {},
   "source": [
    "##### College of Engineering, Construction and Living Sciences<br>Bachelor of Information Technology<br>IN710: Object-Oriented Systems Development<br>Level 7, Credits 15<br><br>Deadline: Tuesday, 10 March at 5pm\n",
    "\n",
    "# Practical 04: Exceptions & Automation Testing\n",
    "\n",
    "In this practical, you will complete a series of tasks covering today's lecture. This practical is worth 1% of the final mark for the Object-Oriented Systems Development course."
   ]
  },
  {
   "cell_type": "code",
   "execution_count": null,
   "metadata": {},
   "outputs": [],
   "source": [
    "%config IPCompleter.greedy=True"
   ]
  },
  {
   "cell_type": "markdown",
   "metadata": {},
   "source": [
    "## Exceptions"
   ]
  },
  {
   "cell_type": "markdown",
   "metadata": {},
   "source": [
    "**Task 1:** Explain what causes an ```FloatingPointError``` exception to be raised."
   ]
  },
  {
   "cell_type": "code",
   "execution_count": null,
   "metadata": {},
   "outputs": [],
   "source": [
    "# Write your explanation here"
   ]
  },
  {
   "cell_type": "markdown",
   "metadata": {},
   "source": [
    "**Task 2:** Explain what causes an ```ImportError``` exception to be raised."
   ]
  },
  {
   "cell_type": "code",
   "execution_count": null,
   "metadata": {},
   "outputs": [],
   "source": [
    "# Write your explanation here"
   ]
  },
  {
   "cell_type": "markdown",
   "metadata": {},
   "source": [
    "**Task 3:** Explain what causes an ```OSError``` exception to be raised."
   ]
  },
  {
   "cell_type": "code",
   "execution_count": null,
   "metadata": {},
   "outputs": [],
   "source": [
    "# Write your explanation here"
   ]
  },
  {
   "cell_type": "markdown",
   "metadata": {},
   "source": [
    "**Task 4:** Explain what causes an ```OverflowError``` exception to be raised."
   ]
  },
  {
   "cell_type": "code",
   "execution_count": null,
   "metadata": {},
   "outputs": [],
   "source": [
    "# Write your explanation here"
   ]
  },
  {
   "cell_type": "markdown",
   "metadata": {},
   "source": [
    "## Automation Testing"
   ]
  },
  {
   "cell_type": "markdown",
   "metadata": {},
   "source": [
    "### Unit Testing\n",
    "**Task 5:** The ```Calculator``` class has one class attribute, one class property & seven class methods. For **each** method, create a unit test. Use the ```TestCalculator``` test case class provided to display the expected output."
   ]
  },
  {
   "cell_type": "code",
   "execution_count": null,
   "metadata": {},
   "outputs": [],
   "source": [
    "from unittest import main, TestCase\n",
    "\n",
    "\n",
    "class Calculator():\n",
    "    def __init__(self):\n",
    "        self.ans = 0.0\n",
    "\n",
    "    @property\n",
    "    def answer(self):\n",
    "        return self.ans\n",
    "\n",
    "    def addition(self, num_1, num_2):\n",
    "        self.ans = num_1 + num_2\n",
    "        return self.answer\n",
    "\n",
    "    def subtraction(self, num_1, num_2):\n",
    "        self.ans = num_1 - num_2\n",
    "        return self.answer\n",
    "\n",
    "    def multiplication(self, num_1, num_2):\n",
    "        self.ans = num_1 * num_2\n",
    "        return self.answer\n",
    "\n",
    "    def division(self, num_1, num_2):\n",
    "        self.ans = num_1 * 1.0 / num_2\n",
    "        return self.answer\n",
    "\n",
    "    def modulo(self, num_1, num_2):\n",
    "        self.ans = num_1 % num_2\n",
    "        return self.answer\n",
    "\n",
    "    def minimum(self, num_1, num_2):\n",
    "        self.ans = num_1 if num_1 <= num_2 else num_2\n",
    "        return self.answer\n",
    "\n",
    "    def maximum(self, num_1, num_2):\n",
    "        self.ans = num_1 if num_1 >= num_2 else num_2\n",
    "        return self.answer\n",
    "\n",
    "\n",
    "class TestCalculator(TestCase):\n",
    "    def setUp(self):\n",
    "        self.calculator = Calculator()\n",
    "\n",
    "    # Write your tests here\n",
    "\n",
    "    def tearDown(self):\n",
    "        self.calculator = None\n",
    "\n",
    "\n",
    "if __name__ == '__main__':\n",
    "    unittest.main(argv=[''], verbosity=2, exit=False)\n",
    "    \n",
    "# Expected output:\n",
    "\n",
    "# test_addition (__main__.TestCalculator) ... ok\n",
    "# test_division (__main__.TestCalculator) ... ok\n",
    "# test_maximum (__main__.TestCalculator) ... ok\n",
    "# test_minimum (__main__.TestCalculator) ... ok\n",
    "# test_modulo (__main__.TestCalculator) ... ok\n",
    "# test_multiplication (__main__.TestCalculator) ... ok\n",
    "# test_subtraction (__main__.TestCalculator) ... ok"
   ]
  },
  {
   "cell_type": "markdown",
   "metadata": {},
   "source": [
    "**Task 6:** The ```Dog``` class has three class attributes & three class properties. For **each** property, create a unit test. Use the ```TestDog``` test case class provided to display the expected output."
   ]
  },
  {
   "cell_type": "code",
   "execution_count": null,
   "metadata": {},
   "outputs": [],
   "source": [
    "from unittest import main, TestCase\n",
    "\n",
    "\n",
    "class Dog:\n",
    "    def __init__(self, breed, age, color):\n",
    "        self.__breed = breed\n",
    "        self.__age = age\n",
    "        self.__color = color\n",
    "\n",
    "    @property\n",
    "    def breed(self):\n",
    "        return self.__breed\n",
    "\n",
    "    @property\n",
    "    def age(self):\n",
    "        return self.__age\n",
    "\n",
    "    @property\n",
    "    def color(self):\n",
    "        return self.__color\n",
    "\n",
    "    @breed.setter\n",
    "    def breed(self, breed):\n",
    "        self.__breed = breed\n",
    "\n",
    "    @age.setter\n",
    "    def age(self, age):\n",
    "        self.__age = age\n",
    "\n",
    "    @color.setter\n",
    "    def color(self, color):\n",
    "        self.__color = color\n",
    "\n",
    "\n",
    "class TestDog(TestCase):\n",
    "    def setUp(self):\n",
    "        self.chihuahua = Dog('chihuahua', 1, 'white')\n",
    "        self.bulldog = Dog('bulldog', 5, 'brown')\n",
    "        self.chihuahua.color = 'black'\n",
    "\n",
    "    # Write your tests here\n",
    "\n",
    "    def tearDown(self):\n",
    "        self.chihuahua = None\n",
    "        self.bulldog = None\n",
    "\n",
    "\n",
    "if __name__ == '__main__':\n",
    "    unittest.main(argv=[''], verbosity=2, exit=False)\n",
    "\n",
    "# Expected output:\n",
    "\n",
    "# test_age (__main__.TestDog) ... ok\n",
    "# test_breed (__main__.TestDog) ... ok\n",
    "# test_color (__main__.TestDog) ... ok"
   ]
  },
  {
   "cell_type": "markdown",
   "metadata": {},
   "source": [
    "**Task 7:** The ```Stack``` class has one class attribute & five class methods. For **each** method, create a unit test. In addition, create a unit test that checks if a ```Stack``` is not empty. Use the ```TestStack``` test case class provided to display the expected output."
   ]
  },
  {
   "cell_type": "code",
   "execution_count": null,
   "metadata": {},
   "outputs": [],
   "source": [
    "from unittest import main, TestCase\n",
    "\n",
    "\n",
    "class Stack():\n",
    "    def __init__(self):\n",
    "        self.stack = []\n",
    "\n",
    "    def is_empty(self):\n",
    "        return len(self.stack) < 1\n",
    "\n",
    "    def push(self, item):\n",
    "        self.stack.append(item)\n",
    "\n",
    "    def pop(self):\n",
    "        if not self.is_empty():\n",
    "            return self.stack.pop()\n",
    "\n",
    "    def peek(self):\n",
    "        if not self.is_empty():\n",
    "            return self.stack[-1]\n",
    "\n",
    "    def display(self):\n",
    "        if not self.is_empty():\n",
    "            return self.stack\n",
    "\n",
    "\n",
    "class TestStack(TestCase):\n",
    "    def setUp(self):\n",
    "        self.stack_1 = Stack()\n",
    "        self.stack_2 = Stack()\n",
    "        self.stack_2.push('Prog4')\n",
    "        self.stack_2.push('Web1')\n",
    "        self.stack_2.push('OOSD')\n",
    "        self.stack_2.pop()\n",
    "\n",
    "    # Write your tests here\n",
    "\n",
    "    def tearDown(self):\n",
    "        self.stack_1 = None\n",
    "        self.stack_2 = None\n",
    "\n",
    "\n",
    "if __name__ == '__main__':\n",
    "    unittest.main(argv=[''], verbosity=2, exit=False)\n",
    "\n",
    "# Expected output:\n",
    "\n",
    "# test_stack_1_is_empty (__main__.TestStack) ... ok\n",
    "# test_stack_2_display (__main__.TestStack) ... ok\n",
    "# test_stack_2_is_not_empty (__main__.TestStack) ... ok\n",
    "# test_stack_2_peek (__main__.TestStack) ... ok\n",
    "# test_stack_2_pop (__main__.TestStack) ... ok"
   ]
  },
  {
   "cell_type": "markdown",
   "metadata": {},
   "source": [
    "**Task 8:** The ```Queue``` class has one class attribute & five class methods. For **each** method, create a unit test. In addition, create a unit test that checks if a ```Queue``` is not empty. Use the ```TestQueue``` test case class provided to display the expected output."
   ]
  },
  {
   "cell_type": "code",
   "execution_count": null,
   "metadata": {},
   "outputs": [],
   "source": [
    "from unittest import main, TestCase\n",
    "\n",
    "\n",
    "class Queue():\n",
    "    def __init__(self):\n",
    "        self.queue = []\n",
    "\n",
    "    def is_empty(self):\n",
    "        return len(self.queue) < 1\n",
    "\n",
    "    def enqueue(self, item):\n",
    "        self.queue.insert(0, item)\n",
    "\n",
    "    def dequeue(self):\n",
    "        if not self.is_empty():\n",
    "            return self.queue.pop()\n",
    "\n",
    "    def size(self):\n",
    "        return len(self.queue)\n",
    "\n",
    "    def display(self):\n",
    "        if not self.is_empty():\n",
    "            return self.queue\n",
    "\n",
    "\n",
    "class TestQueue(TestCase):\n",
    "    def setUp(self):\n",
    "        self.queue_1 = Queue()\n",
    "        self.queue_2 = Queue()\n",
    "        self.queue_2.enqueue('Prog4')\n",
    "        self.queue_2.enqueue('Web1')\n",
    "        self.queue_2.enqueue('OOSD')\n",
    "        self.queue_2.dequeue()\n",
    "\n",
    "    # Write your tests here\n",
    "\n",
    "    def tearDown(self):\n",
    "        self.queue_1 = None\n",
    "        self.queue_2 = None\n",
    "\n",
    "\n",
    "if __name__ == '__main__':\n",
    "    unittest.main(argv=[''], verbosity=2, exit=False)\n",
    "\n",
    "# Expected output:\n",
    "\n",
    "# test_queue_1_is_empty (__main__.TestQueue) ... ok\n",
    "# test_queue_2_dequeue (__main__.TestQueue) ... ok\n",
    "# test_queue_2_display (__main__.TestQueue) ... ok\n",
    "# test_queue_2_is_not_empty (__main__.TestQueue) ... ok\n",
    "# test_queue_2_size (__main__.TestQueue) ... ok"
   ]
  },
  {
   "cell_type": "markdown",
   "metadata": {},
   "source": [
    "### Integration Testing\n",
    "**Task 9:** Use the ```TestAPI``` test case class provided to test the following:\n",
    "* Check if the key ```Name``` equals ```Diamond```\n",
    "* Check if the key ```CanListClassifieds``` is false\n",
    "* Check if an object in the key ```Charities``` contains:\n",
    "    \n",
    "    * The key ```Description``` & the value ```Plunket```\n",
    "    * The key ```Tagline``` & value ```A major provider```. **Hint:** Use the ```in``` membership operator\n",
    "    \n",
    "Resource - https://2.python-requests.org/en/master/"
   ]
  },
  {
   "cell_type": "code",
   "execution_count": null,
   "metadata": {},
   "outputs": [],
   "source": [
    "from requests import get\n",
    "from unittest import main, TestCase\n",
    "\n",
    "\n",
    "class TestAPI(TestCase):\n",
    "    def setUp(self):\n",
    "        self.base_url = 'https://api.tmsandbox.co.nz/v1/Categories/4000/details.json'\n",
    "\n",
    "    # Write your tests here\n",
    "\n",
    "    def tearDown(self):\n",
    "        self.base_url = None\n",
    "\n",
    "\n",
    "if __name__ == '__main__':\n",
    "    main(argv=[''], verbosity=2, exit=False)\n",
    "\n",
    "# Expected output:\n",
    "\n",
    "# test_can_list_classifieds_is_false (__main__.TestAPI) ... ok\n",
    "# test_description_and_tagline (__main__.TestAPI) ... ok\n",
    "# test_name_is_diamond (__main__.TestAPI) ... ok"
   ]
  },
  {
   "cell_type": "markdown",
   "metadata": {},
   "source": [
    "### End-To-End Testing\n",
    "**Task 10:** Use the ```TestStackOverflowSearch``` test case class and hints provided to display the expected output.\n",
    "\n",
    "Resource - https://selenium-python.readthedocs.io/"
   ]
  },
  {
   "cell_type": "code",
   "execution_count": null,
   "metadata": {},
   "outputs": [],
   "source": [
    "from selenium import webdriver\n",
    "from selenium.webdriver.common.keys import Keys\n",
    "from unittest import main, TestCase\n",
    "\n",
    "\n",
    "class TestStackOverflowSearch(TestCase):\n",
    "    def setUp(self):\n",
    "        self.driver = webdriver.Chrome(\n",
    "            './chromedriver/chromedriver_mac')\n",
    "        # Navigate to https://stackoverflow.com/\n",
    "\n",
    "    def test_search_in_stack_overflow(self):\n",
    "        # Test if 'Stack Overflow - Where Developers Learn, Share, & Build Careers' is in the title\n",
    "        # Find the element by the following CSS selector - '#search > div > input'\n",
    "        # Type 'Rust' into the element\n",
    "        # Press the enter/return key\n",
    "        # Test if 'Search Results' is in the page source\n",
    "\n",
    "    def tearDown(self):\n",
    "        self.driver.close()\n",
    "\n",
    "\n",
    "if __name__ == '__main__':\n",
    "    unittest.main(argv=[''], verbosity=2, exit=False)\n",
    "\n",
    "# Expected output:\n",
    "\n",
    "# test_search_in_stack_overflow (__main__.TestStackOverflowSearch) ... ok"
   ]
  },
  {
   "cell_type": "markdown",
   "metadata": {},
   "source": [
    "# Submission\n",
    "1. Create a new branch named 04-checkpoint within your practicals GitHub repository\n",
    "2. Create a new pull request and assign Grayson-Orr to review your submission\n",
    "\n",
    "**Note:** Please don't merge your own pull request."
   ]
  }
 ],
 "metadata": {
  "kernelspec": {
   "display_name": "Python 3",
   "language": "python",
   "name": "python3"
  },
  "language_info": {
   "codemirror_mode": {
    "name": "ipython",
    "version": 3
   },
   "file_extension": ".py",
   "mimetype": "text/x-python",
   "name": "python",
   "nbconvert_exporter": "python",
   "pygments_lexer": "ipython3",
   "version": "3.7.5"
  }
 },
 "nbformat": 4,
 "nbformat_minor": 2
}
