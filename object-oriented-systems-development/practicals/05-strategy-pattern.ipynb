{
 "cells": [
  {
   "cell_type": "markdown",
   "metadata": {},
   "source": [
    "##### College of Engineering, Construction and Living Sciences<br>Bachelor of Information Technology<br>IN710: Object-Oriented Systems Development<br>Level 7, Credits 15<br><br>Deadline: Tuesday, 17 March at 5pm\n",
    "\n",
    "# Practical 05: Strategy Pattern\n",
    "\n",
    "In this practical, you will complete a series of tasks covering today's lecture. This practical is worth 1% of the final mark for the Object-Oriented Systems Development course."
   ]
  },
  {
   "cell_type": "code",
   "execution_count": null,
   "metadata": {},
   "outputs": [],
   "source": [
    "%config IPCompleter.greedy=True"
   ]
  },
  {
   "cell_type": "markdown",
   "metadata": {},
   "source": [
    "## Strategy Pattern"
   ]
  },
  {
   "cell_type": "markdown",
   "metadata": {},
   "source": [
    "### Searching Algorithm\n",
    "**Task 1:** \n",
    "1. Create a class called `SearchingAlgorithmContext` with the private class attributes `strategy`, `data` & `item` & class method `context_interface`. For **each** class attribute create a getter & setter using the `@property` decorator. **Note:** the context refers to the strategy interface for performing an algorithm\n",
    "2. Create an interface class called `Strategy` with the class method `search`. The `search` method takes `data` & `item` as its arguments\n",
    "3. Create two strategy classes called `BinarySearchStrategy` & `LinearSearchStrategy` which implement the `Strategy` class\n",
    "4. Implement the `search` methods appropriately\n",
    "5. Use the `SearchingAlgorithmContext` object provided in the `main` function to display the expected output "
   ]
  },
  {
   "cell_type": "code",
   "execution_count": null,
   "metadata": {},
   "outputs": [],
   "source": [
    "from abc import ABC, abstractmethod\n",
    "\n",
    "\n",
    "def main():\n",
    "    nums = [10, 20, 30, 40, 50]\n",
    "    searching_algo_context = SearchingAlgorithmContext(\n",
    "        BinarySearchStrategy(), nums, 40)\n",
    "\n",
    "\n",
    "if __name__ == \"__main__\":\n",
    "    main()\n",
    "\n",
    "# Expected output:\n",
    "\n",
    "# Binary search strategy - 3\n",
    "# Linear search strategy - 4"
   ]
  },
  {
   "cell_type": "markdown",
   "metadata": {},
   "source": [
    "### Searching Algorithm Unit Testing\n",
    "**Task 2:** For **each** strategy class, create a unit test. Use the `TestSearchingAlgorithmContext` test case class provided to display the expected output."
   ]
  },
  {
   "cell_type": "code",
   "execution_count": null,
   "metadata": {},
   "outputs": [],
   "source": [
    "from unittest import TestCase, main\n",
    "\n",
    "\n",
    "class TestSearchingAlgorithmContext(TestCase):\n",
    "    def setUp(self):\n",
    "        nums = [10, 20, 30, 40, 50]\n",
    "        self.searching_algo_context = SearchingAlgorithmContext(\n",
    "            BinarySearchStrategy(), nums, 40)\n",
    "\n",
    "    # Write your tests here\n",
    "\n",
    "    def tearDown(self):\n",
    "        self.searching_algo_context = None\n",
    "\n",
    "\n",
    "if __name__ == '__main__':\n",
    "    main(argv=[''], verbosity=2, exit=False)\n",
    "\n",
    "# Expected output:\n",
    "\n",
    "# test_binary_search_strategy (__main__.TestSearchingAlgorithmContext) ... ok\n",
    "# test_linear_search_strategy (__main__.TestSearchingAlgorithmContext) ... ok"
   ]
  },
  {
   "cell_type": "markdown",
   "metadata": {},
   "source": [
    "### Sorting Algorithm\n",
    "**Task 3:**\n",
    "1. Create three strategy classes called `BubbleSortStrategy` & `InsertionSortStrategy` which implement the `Strategy` class\n",
    "2. Implement the `sort` methods appropriately\n",
    "3. Use the `sorting_algos` dictionary provided in the `main` function to display the expected output\n",
    "\n",
    "**Note:** your outputs will be different to what is shown below."
   ]
  },
  {
   "cell_type": "code",
   "execution_count": null,
   "metadata": {},
   "outputs": [],
   "source": [
    "from abc import ABC, abstractmethod\n",
    "from random import randrange\n",
    "\n",
    "\n",
    "class SortingAlgorithmContext:\n",
    "    def __init__(self, strategy):\n",
    "        self.__strategy = strategy\n",
    "\n",
    "    def context_interface(self):\n",
    "        rand_nums = [randrange(1, 101, 1) for _ in range(5)]\n",
    "        return self.__strategy.sort(rand_nums)\n",
    "\n",
    "\n",
    "class Strategy(ABC):\n",
    "    @abstractmethod\n",
    "    def sort(self, data):\n",
    "        pass\n",
    "\n",
    "\n",
    "def main():\n",
    "    sorting_algos = {\n",
    "        1: BubbleSortStrategy(),\n",
    "        2: InsertionSortStrategy(),\n",
    "        3: SelectionSortStrategy()\n",
    "    }\n",
    "\n",
    "\n",
    "if __name__ == \"__main__\":\n",
    "    main()\n",
    "\n",
    "# Expect output:\n",
    "\n",
    "# Please choose a sorting algorithm strategy option: [1] Bubble, [2] Insertion, [3] Selection >>> 1\n",
    "# Bubble sort strategy - [40, 40, 65, 69, 90]"
   ]
  },
  {
   "cell_type": "markdown",
   "metadata": {},
   "source": [
    "### Blackjack\n",
    "**Task 4:**\n",
    "1. Use the blackjack program you created in **Practical 03: Object-Oriented Analysis & Design**. If you haven't completed this, please come see me\n",
    "2. Create a class called `BlackjackContext` with the private class attribute `strategy` & class method `context_interface`. Create a getter & setter for the `strategy` class attribute using the `@property` decorator.\n",
    "3. Create an interface class called `Strategy` with the class method `option`. The `search` method takes `game` as its arguments\n",
    "4. Create four strategy classes called `DefaultStrategy`, `CheatStrategy`, `HitFifthteenStrategy` & `StandEighteenStrategy` which implement the `Strategy` class\n",
    "5. Implement the `option` methods as follows:\n",
    "    - `DefaultStrategy` - basic rules of blackjack\n",
    "    - `CheatStrategy` - the player can view the next card in the deck \n",
    "    - `HitFifthteenStrategy` - the player automatically hits if their hand's value is less than or equal to 15\n",
    "    - `StandEighteenStrategy` - the player automatically stand if their hand's value if greater than or equal to 18"
   ]
  },
  {
   "cell_type": "code",
   "execution_count": null,
   "metadata": {},
   "outputs": [],
   "source": []
  },
  {
   "cell_type": "markdown",
   "metadata": {},
   "source": [
    "### Blackjack SQLite\n",
    "**Optional:** Using `SQLite`, create a database called `blackjack` & a table called statistics. At the end of each hand, insert the house's hand value, player's hand value & result (0 = lose, 1 = win & 2 = draw). Display the player's record appropriately.\n",
    "\n",
    "Resource - https://docs.python.org/3.8/library/sqlite3.html"
   ]
  },
  {
   "cell_type": "code",
   "execution_count": null,
   "metadata": {},
   "outputs": [],
   "source": []
  },
  {
   "cell_type": "markdown",
   "metadata": {},
   "source": [
    "# Submission\n",
    "1. Create a new branch named 05-checkpoint within your practicals GitHub repository\n",
    "2. Create a new pull request and assign Grayson-Orr to review your submission\n",
    "\n",
    "**Note:** Please don't merge your own pull request."
   ]
  }
 ],
 "metadata": {
  "kernelspec": {
   "display_name": "Python 3",
   "language": "python",
   "name": "python3"
  },
  "language_info": {
   "codemirror_mode": {
    "name": "ipython",
    "version": 3
   },
   "file_extension": ".py",
   "mimetype": "text/x-python",
   "name": "python",
   "nbconvert_exporter": "python",
   "pygments_lexer": "ipython3",
   "version": "3.7.3"
  }
 },
 "nbformat": 4,
 "nbformat_minor": 2
}
