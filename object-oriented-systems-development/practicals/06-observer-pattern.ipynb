{
 "cells": [
  {
   "cell_type": "markdown",
   "metadata": {},
   "source": [
    "##### College of Engineering, Construction and Living Sciences<br>Bachelor of Information Technology<br>IN710: Object-Oriented Systems Development<br>Level 7, Credits 15<br><br>Deadline: Tuesday, 17 March at 5pm\n",
    "\n",
    "# Practical 06: Observer Pattern\n",
    "\n",
    "In this practical, you will complete a series of tasks covering today's lecture. This practical is worth 1% of the final mark for the Object-Oriented Systems Development course."
   ]
  },
  {
   "cell_type": "code",
   "execution_count": null,
   "metadata": {},
   "outputs": [],
   "source": [
    "%config IPCompleter.greedy=True"
   ]
  },
  {
   "cell_type": "markdown",
   "metadata": {},
   "source": [
    "## Observer Pattern"
   ]
  },
  {
   "cell_type": "markdown",
   "metadata": {},
   "source": [
    "### Wholesale Whiteboard Marker\n",
    "**Task 1:**\n",
    "1. Create an interface class called `WhiteboardMarkerSubject` with the class methods `register`, `unregister` & `notify`. The `register` & `unregister` methods take observer as its argument. \n",
    "2. Create a class called `WhiteboardMarker` which implements the `WhiteboardMarkerSubject` class. The `WhiteboardMarker` constructor takes `price` as its argument. Using the `@property` decorator, create a getter & setter for `price`. When the price has changed, call the `notify` method. The `register` & `unregister` methods should `append` & `remove` shops from the `shops` list. Make sure you check if the shops are **in** & **not in** the list.\n",
    "3. Create an interface called `StationeryShopObserver` with the class method `update`. The update method takes `whiteboard_marker` as its argument\n",
    "4. Create a class called `StationeryShop` which implements the `StationeryShopObserver` class. The `StationeryShop` constructor takes `shop_name` as its argument. The update method returns a string outputing the whiteboard marker's price & shop's name"
   ]
  },
  {
   "cell_type": "code",
   "execution_count": 5,
   "metadata": {},
   "outputs": [],
   "source": [
    "from abc import ABC, abstractmethod\n",
    "\n",
    "# Write your WhiteboardMarkerSubject class solution here\n",
    "\n",
    "# Write your WhiteboardMarker class solution here\n",
    "\n",
    "# Write your StationeryShopObserver class solution here\n",
    "\n",
    "# Write your StationeryShop class solution here\n",
    "\n",
    "\n",
    "def main():\n",
    "    paper_plus = StationeryShop('Paper Plus')\n",
    "    warehouse_stationery = StationeryShop('Warehouse Stationery')\n",
    "    whiteboard_marker = WhiteboardMarker(2.99)\n",
    "    whiteboard_marker.register(paper_plus)\n",
    "    whiteboard_marker.register(warehouse_stationery)\n",
    "    whiteboard_marker.price = 2.49\n",
    "    whiteboard_marker.price = 2.25\n",
    "    whiteboard_marker.unregister(paper_plus)\n",
    "    whiteboard_marker.price = 2.99\n",
    "\n",
    "\n",
    "if __name__ == '__main__':\n",
    "    main()\n",
    "\n",
    "    # Expected output:\n",
    "\n",
    "    # Update: Whiteboard marker now $2.49 at Paper Plus\n",
    "    # Update: Whiteboard marker now $2.49 at Warehouse Stationery\n",
    "    # Update: Whiteboard marker now $2.25 at Paper Plus\n",
    "    # Update: Whiteboard marker now $2.25 at Warehouse Stationery\n",
    "    # Update: Whiteboard marker now $2.99 at Warehouse Stationery"
   ]
  },
  {
   "cell_type": "markdown",
   "metadata": {},
   "source": [
    "### Wholesale Whiteboard Marker Unit Testing\n",
    "**Task 2:** For **each** method in the `WhiteboardMarker` class, create a unit test. Use the `TestWhiteboardMarker` test case class provided to display the expected output."
   ]
  },
  {
   "cell_type": "code",
   "execution_count": 6,
   "metadata": {},
   "outputs": [],
   "source": [
    "from unittest import TestCase, main\n",
    "\n",
    "\n",
    "class TestWhiteboardMarker(TestCase):\n",
    "    def setUp(self):\n",
    "        self.paper_plus = StationeryShop('Paper Plus')\n",
    "        self.warehouse_stationery = StationeryShop('Warehouse Stationery')\n",
    "        self.whiteboard_marker = WhiteboardMarker(2.99)\n",
    "        self.whiteboard_marker.register(self.paper_plus)\n",
    "\n",
    "    def test_whiteboard_marker_default_price(self):\n",
    "        pass\n",
    "\n",
    "    def test_whiteboard_marker_update_price(self):\n",
    "        pass\n",
    "\n",
    "    def test_whiteboard_marker_register(self):\n",
    "        pass\n",
    "\n",
    "    def test_whiteboard_marker_unregister(self):\n",
    "        pass\n",
    "\n",
    "    def tearDown(self):\n",
    "        self.paper_plus = None\n",
    "        self.warehouse_stationery = None\n",
    "        self.whiteboard_marker = None\n",
    "\n",
    "\n",
    "if __name__ == '__main__':\n",
    "    main(argv=[''], verbosity=2, exit=False)\n",
    "\n",
    "    # Expected output:\n",
    "\n",
    "    # test_whiteboard_marker_default_price (__main__.TestWhiteboardMarker) ... ok\n",
    "    # test_whiteboard_marker_register (__main__.TestWhiteboardMarker) ... ok\n",
    "    # test_whiteboard_marker_unregister (__main__.TestWhiteboardMarker) ... ok\n",
    "    # test_whiteboard_marker_update_price (__main__.TestWhiteboardMarker) ... ok"
   ]
  },
  {
   "cell_type": "markdown",
   "metadata": {},
   "source": [
    "### Watchdog\n",
    "**Optional:** Using `watchdog` - a module used to monitor file system events, create a program that checks if file/directory within the current directory has been created, deleted, modified or moved."
   ]
  },
  {
   "cell_type": "code",
   "execution_count": 7,
   "metadata": {},
   "outputs": [],
   "source": [
    "pip install watchdog"
   ]
  },
  {
   "cell_type": "code",
   "execution_count": 1,
   "metadata": {},
   "outputs": [],
   "source": [
    "from time import sleep\n",
    "from watchdog.observers import Observer\n",
    "from watchdog.events import PatternMatchingEventHandler\n",
    "\n",
    "\n",
    "class PatternMatching:\n",
    "    def __init__(self, event):\n",
    "        self.event = event\n",
    "\n",
    "    def on_created(self, event):\n",
    "        print(f'{event.src_path} has been created')\n",
    "\n",
    "    # Write your on_deleted method solution here\n",
    "\n",
    "    # Write your on_modified method solution here\n",
    "\n",
    "    # Write your on_moved method solution here\n",
    "\n",
    "\n",
    "def main():\n",
    "    event_handler = PatternMatchingEventHandler('*', '', False, True)\n",
    "    pattern_matching = PatternMatching(event_handler)\n",
    "\n",
    "    event_handler.on_created = pattern_matching.on_created\n",
    "    event_handler.on_deleted = pattern_matching.on_deleted\n",
    "    event_handler.on_modified = pattern_matching.on_modified\n",
    "    event_handler.on_moved = pattern_matching.on_moved\n",
    "\n",
    "    observer = Observer()\n",
    "    observer.schedule(event_handler, '.', recursive=True)\n",
    "    observer.start()\n",
    "\n",
    "    try:\n",
    "        while True:\n",
    "            sleep(1)\n",
    "    except KeyboardInterrupt:\n",
    "        observer.stop()\n",
    "        observer.join()\n",
    "\n",
    "\n",
    "if __name__ == '__main__':\n",
    "    main()\n",
    "\n",
    "    # Expected output - in the current directory, create a file called\n",
    "    # test.txt, modify the file then delete the file"
   ]
  },
  {
   "cell_type": "markdown",
   "metadata": {},
   "source": [
    "# Submission\n",
    "1. Create a new branch named 06-checkpoint within your practicals GitHub repository\n",
    "2. Create a new pull request and assign Grayson-Orr to review your submission\n",
    "\n",
    "**Note:** Please don't merge your own pull request."
   ]
  }
 ],
 "metadata": {
  "kernelspec": {
   "display_name": "Python 3",
   "language": "python",
   "name": "python3"
  },
  "language_info": {
   "codemirror_mode": {
    "name": "ipython",
    "version": 3
   },
   "file_extension": ".py",
   "mimetype": "text/x-python",
   "name": "python",
   "nbconvert_exporter": "python",
   "pygments_lexer": "ipython3",
   "version": "3.7.5"
  }
 },
 "nbformat": 4,
 "nbformat_minor": 2
}
